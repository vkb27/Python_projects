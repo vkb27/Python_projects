{
 "cells": [
  {
   "cell_type": "code",
   "execution_count": 85,
   "metadata": {},
   "outputs": [],
   "source": [
    "import cv2\n",
    "import numpy as np"
   ]
  },
  {
   "cell_type": "code",
   "execution_count": 86,
   "metadata": {},
   "outputs": [],
   "source": [
    "img = cv2.imread(\"mamamoo1.jpg\")\n",
    "# from skimage import io \n",
    "# io.imshow(img)\n",
    "cv2.imshow('img',img)\n",
    "\n",
    "k = cv2.waitKey(0)\n",
    "if k == 27:  # if no key was pressed, -1 is returned\n",
    "    cv2.destroyWindow('img')"
   ]
  },
  {
   "cell_type": "code",
   "execution_count": 87,
   "metadata": {},
   "outputs": [],
   "source": [
    "gray = cv2.cvtColor(img, cv2.COLOR_BGR2GRAY)\n",
    "gray = cv2.medianBlur(gray,3)\n",
    "# cv2.imshow(\"blah\",gray)\n",
    "edges = cv2.adaptiveThreshold(gray, 255, cv2.ADAPTIVE_THRESH_MEAN_C, cv2.THRESH_BINARY, 7,7)\n",
    "cv2.imshow(\"img\",edges)\n",
    "k = cv2.waitKey(0)\n",
    "if k == 27:  # if no key was pressed, -1 is returned\n",
    "    cv2.destroyAllWindows()"
   ]
  },
  {
   "cell_type": "code",
   "execution_count": 88,
   "metadata": {},
   "outputs": [],
   "source": [
    "color = cv2.bilateralFilter(img, 9, 250, 250)\n",
    "\n",
    "# Sigma values: For simplicity, you can set the 2 sigma values to be the same. \n",
    "# If they are small (< 10), the filter will not have much effect, whereas \n",
    "# if they are large (> 150), they will have a very strong effect, making the image look \"cartoonish\".\n",
    "\n",
    "cartoon = cv2.bitwise_and(color, color, mask=edges)"
   ]
  },
  {
   "cell_type": "code",
   "execution_count": 89,
   "metadata": {},
   "outputs": [],
   "source": [
    "cv2.imshow('img',cartoon)\n",
    "\n",
    "k = cv2.waitKey(0)\n",
    "if k == 27: \n",
    "    cv2.destroyWindow('img')"
   ]
  },
  {
   "cell_type": "code",
   "execution_count": null,
   "metadata": {},
   "outputs": [],
   "source": []
  }
 ],
 "metadata": {
  "kernelspec": {
   "display_name": "Python 3",
   "language": "python",
   "name": "python3"
  },
  "language_info": {
   "codemirror_mode": {
    "name": "ipython",
    "version": 3
   },
   "file_extension": ".py",
   "mimetype": "text/x-python",
   "name": "python",
   "nbconvert_exporter": "python",
   "pygments_lexer": "ipython3",
   "version": "3.8.5"
  }
 },
 "nbformat": 4,
 "nbformat_minor": 4
}
